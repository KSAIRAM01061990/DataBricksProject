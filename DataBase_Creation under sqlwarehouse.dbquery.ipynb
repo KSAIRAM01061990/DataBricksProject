{
 "cells": [
  {
   "cell_type": "code",
   "execution_count": 0,
   "metadata": {
    "application/vnd.databricks.v1+cell": {
     "cellMetadata": {},
     "inputWidgets": {},
     "nuid": "2504b43b-c54d-4efa-a2bf-36f610dfa152",
     "showTitle": false,
     "tableResultSettingsMap": {},
     "title": ""
    }
   },
   "outputs": [],
   "source": [
    "CREATE DATABASE HR_DATA ;\n",
    "\n",
    "USE HR_DATA;\n",
    "\n",
    "CREATE TABLE EMPLOYEE\n",
    "(\n",
    "    ID INT,\n",
    "    NAME VARCHAR(100),\n",
    "    SALARY DECIMAL(10,2),\n",
    "    DEPARTMENT VARCHAR(100)\n",
    "    \n",
    ");\n",
    "\n",
    "\n",
    "INSERT INTO EMPLOYEE VALUES (1,'SAI',100,'HR'),(2,'SAIRAM',1000,'HR');\n",
    "\n",
    "\n",
    "CREATE OR REPLACE VIEW VW_EMPLOYEE_DATA\n",
    "AS\n",
    "\n",
    "SELECT ID,NAME,SALARY,DEPARTMENT FROM EMPLOYEE WHERE DEPARTMENT = 'HR'\n"
   ]
  }
 ],
 "metadata": {
  "application/vnd.databricks.v1+notebook": {
   "computePreferences": null,
   "dashboards": [],
   "environmentMetadata": null,
   "inputWidgetPreferences": null,
   "language": "sql",
   "notebookMetadata": {
    "sqlQueryOptions": {
     "applyAutoLimit": true,
     "catalog": "demo",
     "schema": "default"
    }
   },
   "notebookName": "DataBase_Creation under sqlwarehouse.dbquery.ipynb",
   "widgets": {}
  },
  "language_info": {
   "name": "sql"
  }
 },
 "nbformat": 4,
 "nbformat_minor": 0
}
