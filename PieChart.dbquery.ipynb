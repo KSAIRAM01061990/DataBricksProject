{
 "cells": [
  {
   "cell_type": "code",
   "execution_count": 0,
   "metadata": {
    "application/vnd.databricks.v1+cell": {
     "cellMetadata": {},
     "inputWidgets": {},
     "nuid": "7b11c47b-66cf-473f-aeda-32e768366fab",
     "showTitle": false,
     "tableResultSettingsMap": {},
     "title": ""
    }
   },
   "outputs": [],
   "source": [
    "SELECT\r\n",
    "  T.tpep_pickup_datetime,\r\n",
    "  T.tpep_dropoff_datetime, \r\n",
    "  T.fare_amount,\r\n",
    "  T.pickup_zip,\r\n",
    "  T.dropoff_zip,\r\n",
    "  T.trip_distance,\r\n",
    "  T.weekday,\r\n",
    "  CASE\r\n",
    "    WHEN T.weekday = 1 THEN 'Sunday'\r\n",
    "    WHEN T.weekday = 2 THEN 'Monday'\r\n",
    "    WHEN T.weekday = 3 THEN 'Tuesday'\r\n",
    "    WHEN T.weekday = 4 THEN 'Wednesday'\r\n",
    "    WHEN T.weekday = 5 THEN 'Thursday'\r\n",
    "    WHEN T.weekday = 6 THEN 'Friday'\r\n",
    "    WHEN T.weekday = 7 THEN 'Saturday'\r\n",
    "    ELSE 'N/A'\r\n",
    "  END AS day_of_week\r\n",
    "FROM\r\n",
    "  (\r\n",
    "    SELECT\r\n",
    "      dayofweek(tpep_pickup_datetime) as weekday,\r\n",
    "      *\r\n",
    "    FROM\r\n",
    "      `samples`.`nyctaxi`.`trips`\r\n",
    "    WHERE\r\n",
    "      trip_distance > 0\r\n",
    "      AND trip_distance < 10\r\n",
    "      AND fare_amount > 0\r\n",
    "      AND fare_amount < 50\r\n",
    "  ) T\r\n",
    "ORDER BY\r\n",
    "  T.weekday"
   ]
  }
 ],
 "metadata": {
  "application/vnd.databricks.v1+notebook": {
   "computePreferences": null,
   "dashboards": [],
   "environmentMetadata": null,
   "inputWidgetPreferences": null,
   "language": "sql",
   "notebookMetadata": {
    "sqlQueryOptions": {
     "applyAutoLimit": true,
     "catalog": "demo",
     "schema": "default"
    }
   },
   "notebookName": "PieChart.dbquery.ipynb",
   "widgets": {}
  },
  "language_info": {
   "name": "sql"
  }
 },
 "nbformat": 4,
 "nbformat_minor": 0
}
