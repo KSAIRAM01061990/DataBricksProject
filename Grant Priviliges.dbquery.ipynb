{
 "cells": [
  {
   "cell_type": "code",
   "execution_count": 0,
   "metadata": {
    "application/vnd.databricks.v1+cell": {
     "cellMetadata": {},
     "inputWidgets": {},
     "nuid": "5f09edcd-4b67-4f82-8d0c-6448a6943504",
     "showTitle": false,
     "tableResultSettingsMap": {},
     "title": ""
    }
   },
   "outputs": [],
   "source": [
    "GRANT SELECT,MODIFY,USAGE,CREATE ON SCHEMA HR_DATA TO All account users;\n",
    "\n",
    "\n",
    "GRANT SELECT ON TABLE EMPLOYEE TO All account users;\n",
    "\n",
    "\n",
    "GRANT ALL PRIVILEGES ON CATALOG HR_DATA TO All account users;\n",
    "\n",
    "\n",
    "\n",
    "SHOW GRANTS ON VIEW VW_EMPLOYEE_DATA;\n",
    "SHOW GRANTS ON SCHEMA HR_DATA;\n",
    "SHOW GRANTS ON TABLE EMPLOYEE;\n",
    "SHOW GRANTS ON CATALOG demo;"
   ]
  }
 ],
 "metadata": {
  "application/vnd.databricks.v1+notebook": {
   "computePreferences": null,
   "dashboards": [],
   "environmentMetadata": null,
   "inputWidgetPreferences": null,
   "language": "sql",
   "notebookMetadata": {
    "sqlQueryOptions": {
     "applyAutoLimit": true,
     "catalog": "demo",
     "schema": "default"
    }
   },
   "notebookName": "Grant Priviliges.dbquery.ipynb",
   "widgets": {}
  },
  "language_info": {
   "name": "sql"
  }
 },
 "nbformat": 4,
 "nbformat_minor": 0
}
